{
 "cells": [
  {
   "cell_type": "code",
   "execution_count": 1,
   "metadata": {
    "collapsed": false,
    "jupyter": {
     "outputs_hidden": false
    }
   },
   "outputs": [],
   "source": [
    "import numpy as np\n",
    "from numpy.linalg import norm\n",
    "import matplotlib.pyplot as plt\n",
    "import hashlib"
   ]
  },
  {
   "cell_type": "code",
   "execution_count": 3,
   "metadata": {
    "collapsed": false,
    "jupyter": {
     "outputs_hidden": false
    }
   },
   "outputs": [
    {
     "name": "stdin",
     "output_type": "stream",
     "text": [
      "Ingrese su código de estudiante  201513349\n"
     ]
    },
    {
     "name": "stdout",
     "output_type": "stream",
     "text": [
      "Posición inicial r_0=(x=34.7m,y=-7.7m,z=0.0m)\n"
     ]
    }
   ],
   "source": [
    "r_0 = None\n",
    "def get_r_0(pref1='FISI',pref2='2028'):\n",
    "    '''\n",
    "        Funcion para determinar r_0 usando un algoritmo de hash\n",
    "    '''\n",
    "    global r_0\n",
    "    def get_codigo():\n",
    "        while True:\n",
    "            try:\n",
    "                c = int(input(\"Ingrese su código de estudiante \"))       \n",
    "            except ValueError:\n",
    "                print(\"El código debe ser un entero\")\n",
    "                continue\n",
    "            else:\n",
    "                if c < 300000000 and c > 190000000:\n",
    "                    return c\n",
    "                else:\n",
    "                    print(\"El código no parece ser válido. Intente nuevamente\")\n",
    "    def hasher(key, n):\n",
    "        # sum ASCII values and convert string to integer\n",
    "        lst = [ord(char) for char in list(key)]\n",
    "        return np.sum(lst) % n\n",
    "    codigo = get_codigo()\n",
    "    key1 = hashlib.sha256((pref1+str(codigo)).encode('utf-8'))\n",
    "    key2 = hashlib.sha256((pref2+str(codigo)).encode('utf-8'))\n",
    "    r_0 = np.array([\n",
    "        hasher(key1.hexdigest(),100)/10+26,\n",
    "        hasher(key2.hexdigest(),400)/10-20,\n",
    "        0\n",
    "    ])\n",
    "    print(\"Posición inicial r_0=(x=%.1fm,y=%.1fm,z=%.1fm)\"%(r_0[0],r_0[1],r_0[2]))\n",
    "get_r_0()"
   ]
  },
  {
   "cell_type": "code",
   "execution_count": 4,
   "metadata": {
    "collapsed": false,
    "jupyter": {
     "outputs_hidden": false
    }
   },
   "outputs": [
    {
     "data": {
      "text/plain": [
       "23.683551781774625"
      ]
     },
     "execution_count": 4,
     "metadata": {},
     "output_type": "execute_result"
    }
   ],
   "source": [
    "# Reducción dimensional\n",
    "r_0=np.array([29.4,8.9])\n",
    "\n",
    "r=np.array([105/2,7.35/2]) # asumiendo que el gol se haga en la esquina del arco de Khan\n",
    "shot=norm(r_0-r) #normalizndo\n",
    "shot"
   ]
  },
  {
   "cell_type": "code",
   "execution_count": 5,
   "metadata": {
    "collapsed": false,
    "jupyter": {
     "outputs_hidden": false
    }
   },
   "outputs": [],
   "source": [
    "# Ec. mov.\n",
    "m = 0.450 \n",
    "radio = 0.11 \n",
    "g = 9.8 \n",
    "rho = 1.2 #del aire\n",
    "cancha = 2.44 #alto\n",
    "v_max = 183.0\n",
    "A = np.pi*radio**2\n",
    "\n",
    "def arrastre(v):\n",
    "    # velocidad en 'x', 'y' y 'z'\n",
    "    return 0.155+0.346/(1+np.exp((norm(v)-12.19)/1.309))\n",
    "    # Tomado de : https://www.researchgate.net/publication/228375759_Soccer_ball_lift_coefficients_via_trajectory_analysis\n",
    "def kappa(v):\n",
    "    return rho*A*norm(v)*arrastre(v)/(2*m)\n",
    "def dv_dt(v):\n",
    "    return -kappa(v)*v-np.array([0,g])"
   ]
  },
  {
   "cell_type": "code",
   "execution_count": 6,
   "metadata": {
    "collapsed": false,
    "jupyter": {
     "outputs_hidden": false
    }
   },
   "outputs": [],
   "source": [
    "#Rungekutta\n",
    "def RK_4(F,x,dt=1e-2):\n",
    "    a = F(x)\n",
    "    b = F(x+dt/2*a)\n",
    "    c = F(x+dt/2*b)\n",
    "    d = F(x+dt*c)\n",
    "    return x+dt/6*(a+2*b+2*c+d)"
   ]
  },
  {
   "cell_type": "code",
   "execution_count": 7,
   "metadata": {
    "collapsed": false,
    "jupyter": {
     "outputs_hidden": false
    }
   },
   "outputs": [],
   "source": [
    "def simulacion(F,v_0,dt=5e-3):\n",
    "    x_vec = np.zeros(2)\n",
    "    v_vec = v_0\n",
    "    t = 0.0\n",
    "    while x_vec[0]<shot:\n",
    "        v_vec = RK_4(F,v_vec,dt)\n",
    "        x_vec += v_vec*dt\n",
    "        if (abs(x_vec[0]-9.15)<2*radio and x_vec[1]<1.8+2*radio): #si toca barrera\n",
    "            return np.zeros(2),0.0\n",
    "        if norm(v_vec)>v_max:\n",
    "            return np.zeros(2),0.0\n",
    "        t+=dt\n",
    "    return x_vec,t #posicion final, tiempo"
   ]
  },
  {
   "cell_type": "code",
   "execution_count": 8,
   "metadata": {
    "collapsed": false,
    "jupyter": {
     "outputs_hidden": false
    }
   },
   "outputs": [
    {
     "data": {
      "text/plain": [
       "(array([23.72564284, 15.52273373]), 1.3399999999999934)"
      ]
     },
     "execution_count": 8,
     "metadata": {},
     "output_type": "execute_result"
    }
   ],
   "source": [
    "simulacion(dv_dt,np.array([20,20]))"
   ]
  },
  {
   "cell_type": "code",
   "execution_count": 9,
   "metadata": {
    "collapsed": false,
    "jupyter": {
     "outputs_hidden": false
    }
   },
   "outputs": [],
   "source": [
    "def f_costo(h_fin):\n",
    "    return np.exp(-(h_fin-cancha/2)**2/5)\n",
    "def s_costo(v_0,dt=5e-3):\n",
    "    (x_fin,h_fin),t_fin = simulacion(dv_dt,v_0,dt)\n",
    "    if t_fin == 0.0:\n",
    "        return 0.0 \n",
    "    else:\n",
    "        return f_costo(h_fin)"
   ]
  },
  {
   "cell_type": "code",
   "execution_count": 10,
   "metadata": {
    "collapsed": false,
    "jupyter": {
     "outputs_hidden": false
    }
   },
   "outputs": [
    {
     "data": {
      "image/png": "[encoded data removed]",
      "text/plain": [
       "<Figure size 432x288 with 1 Axes>"
      ]
     },
     "metadata": {
      "needs_background": "light"
     },
     "output_type": "display_data"
    }
   ],
   "source": [
    "xp=np.linspace(-3,5,300)\n",
    "yp = [f_costo(i) for i in xp]\n",
    "plt.plot(xp,yp)\n",
    "plt.xlabel(\"Ditancia a Porteria\")\n",
    "plt.ylabel(\"% paso MCMC\");"
   ]
  },
  {
   "cell_type": "code",
   "execution_count": 11,
   "metadata": {
    "collapsed": false,
    "jupyter": {
     "outputs_hidden": false
    }
   },
   "outputs": [],
   "source": [
    "def MH(v,costo,mult=1):\n",
    "    P = costo(v)\n",
    "    v_new = v+mult*np.random.normal(size=len(v))\n",
    "    p_new = costo(v_new)\n",
    "    aleatorio = np.random.random()\n",
    "    if aleatorio < p_new/P:\n",
    "        return v_new\n",
    "    else:\n",
    "        return v"
   ]
  },
  {
   "cell_type": "code",
   "execution_count": 12,
   "metadata": {
    "collapsed": false,
    "jupyter": {
     "outputs_hidden": false
    }
   },
   "outputs": [
    {
     "name": "stdout",
     "output_type": "stream",
     "text": [
      "   0.90538\r"
     ]
    }
   ],
   "source": [
    "v_real = np.array([10,10])\n",
    "\n",
    "ev_costo=[s_costo(v_real)]\n",
    "\n",
    "while abs(ev_costo[-1]-1)>0.1:\n",
    "    v_real = MH(v_real,s_costo,mult=.5)\n",
    "    print(\"{:10.5}\".format(s_costo(v_real)),end=\"\\r\")\n",
    "    ev_costo.append(s_costo(v_real))\n"
   ]
  },
  {
   "cell_type": "code",
   "execution_count": 13,
   "metadata": {
    "collapsed": false,
    "jupyter": {
     "outputs_hidden": false
    }
   },
   "outputs": [
    {
     "data": {
      "text/plain": [
       "0.9053766410053471"
      ]
     },
     "execution_count": 13,
     "metadata": {},
     "output_type": "execute_result"
    },
    {
     "data": {
      "image/png": "[encoded data removed]",
      "text/plain": [
       "<Figure size 432x288 with 1 Axes>"
      ]
     },
     "metadata": {
      "needs_background": "light"
     },
     "output_type": "display_data"
    }
   ],
   "source": [
    "plt.plot(range(len(ev_costo)),np.array(ev_costo))\n",
    "plt.scatter(range(len(ev_costo)),np.array(ev_costo))\n",
    "plt.xlabel(\"# Iteracion\")\n",
    "plt.ylabel(\"Costo\")\n",
    "ev_costo[-1]"
   ]
  },
  {
   "cell_type": "code",
   "execution_count": 14,
   "metadata": {
    "collapsed": false,
    "jupyter": {
     "outputs_hidden": false
    }
   },
   "outputs": [
    {
     "data": {
      "text/plain": [
       "array([14.00055404, 11.41096366])"
      ]
     },
     "execution_count": 14,
     "metadata": {},
     "output_type": "execute_result"
    }
   ],
   "source": [
    "v_real"
   ]
  },
  {
   "cell_type": "code",
   "execution_count": 15,
   "metadata": {
    "collapsed": false,
    "jupyter": {
     "outputs_hidden": false
    }
   },
   "outputs": [
    {
     "data": {
      "text/plain": [
       "1.9249973189798475"
      ]
     },
     "execution_count": 15,
     "metadata": {},
     "output_type": "execute_result"
    }
   ],
   "source": [
    "(xmax,h_end),tmax=simulacion(dv_dt,v_real)\n",
    "h_end #golazo y pa la casa, si da menor a 2.44"
   ]
  },
  {
   "cell_type": "code",
   "execution_count": 16,
   "metadata": {
    "collapsed": false,
    "jupyter": {
     "outputs_hidden": false
    }
   },
   "outputs": [],
   "source": [
    "v_x,v_y = v_real[0]*(r-r_0)/shot\n",
    "v_z = v_real[1]"
   ]
  },
  {
   "cell_type": "code",
   "execution_count": 17,
   "metadata": {
    "collapsed": false,
    "jupyter": {
     "outputs_hidden": false
    }
   },
   "outputs": [
    {
     "name": "stdout",
     "output_type": "stream",
     "text": [
      "velocidad en x, y, z =   [13.655586853388705, -3.088763693028398, 11.410963662448763]\n"
     ]
    }
   ],
   "source": [
    "print(\"velocidad en x, y, z =  \",[v_x,v_y,v_z])"
   ]
  },
  {
   "cell_type": "code",
   "execution_count": 18,
   "metadata": {
    "collapsed": false,
    "jupyter": {
     "outputs_hidden": false
    }
   },
   "outputs": [],
   "source": [
    "\n",
    "def RK4(F,x0,stop=lambda x,t:t<=1,dt=1e-3):\n",
    "    x_array = [x0]\n",
    "    t_array = [0.0]\n",
    "    while stop(x_array[-1],t_array[-1]):\n",
    "        x_array.append(RK_4(F,x_array[-1],dt))\n",
    "        t_array.append(t_array[-1]+dt)\n",
    "    return (np.array(x_array),np.array(t_array))\n",
    "        \n",
    "\n",
    "def trapezoide(x_array,y_array):\n",
    "    return np.sum((y_array[:-1]+y_array[1:])*(np.diff(x_array))/2)"
   ]
  },
  {
   "cell_type": "code",
   "execution_count": 23,
   "metadata": {
    "collapsed": false,
    "jupyter": {
     "outputs_hidden": false
    }
   },
   "outputs": [
    {
     "data": {
      "text/plain": [
       "Text(0, 0.5, 'Velocidad (m/s)')"
      ]
     },
     "execution_count": 23,
     "metadata": {},
     "output_type": "execute_result"
    },
    {
     "data": {
      "image/png": "[encoded data removed]",
      "text/plain": [
       "<Figure size 432x288 with 1 Axes>"
      ]
     },
     "metadata": {
      "needs_background": "light"
     },
     "output_type": "display_data"
    }
   ],
   "source": [
    "v_ini=v_real\n",
    "vsol,tsol=RK4(dv_dt,v_ini,stop=lambda x,t:t<tmax,dt=5e-3)\n",
    "vxsol,vhsol=np.array(vsol).T\n",
    "\n",
    "\n",
    "plt.plot(tsol,[norm([i,j]) for i,j in zip(vxsol,vhsol)],c='r')\n",
    "plt.xlabel(\"Tiempo (s)\")\n",
    "plt.ylabel(\"Velocidad (m/s)\")"
   ]
  },
  {
   "cell_type": "code",
   "execution_count": 22,
   "metadata": {
    "collapsed": false,
    "jupyter": {
     "outputs_hidden": false
    }
   },
   "outputs": [
    {
     "data": {
      "text/plain": [
       "<matplotlib.legend.Legend at 0x7fab4ca40f98>"
      ]
     },
     "execution_count": 22,
     "metadata": {},
     "output_type": "execute_result"
    },
    {
     "data": {
      "image/png": "[encoded data removed]",
      "text/plain": [
       "<Figure size 1705.97x429.913 with 1 Axes>"
      ]
     },
     "metadata": {
      "needs_background": "light"
     },
     "output_type": "display_data"
    }
   ],
   "source": [
    "xsol=[trapezoide(tsol[:i],vxsol[:i]) for i in range(0,len(tsol))]\n",
    "hsol=[trapezoide(tsol[:i],vhsol[:i]) for i in range(0,len(tsol))]\n",
    "\n",
    "plt.figure(figsize=(max(xsol),max(hsol)))\n",
    "plt.plot(xsol,hsol,c='r',label=\"Trayectoria balon\")\n",
    "plt.title('trayectoria del tiro')\n",
    "plt.xlabel(\"distancia en funcion del tiempo\")\n",
    "plt.ylabel(\"altura en funcion del tiempo\")\n",
    "plt.plot([9.1,9.1,9.2,9.2],[0,1.8,1.8,0],c='g',label=\"Barrera\")\n",
    "plt.plot([shot-0.01,shot-0.01,shot+0.01,shot+0.01],[0,cancha,cancha,0],c='y',label=\"Cancha\")\n",
    "plt.legend()"
   ]
  },
  {
   "cell_type": "code",
   "execution_count": 25,
   "metadata": {
    "collapsed": false,
    "jupyter": {
     "outputs_hidden": false
    }
   },
   "outputs": [],
   "source": [
    "\n",
    "def trapezoide(x_array,y_array):\n",
    "    return np.sum((y_array[:-1]+y_array[1:])*(np.diff(x_array))/2)\n",
    "\n",
    "def simpson(x_array,y_array):\n",
    "    s=0.0\n",
    "    for i in range(0,len(x_array),2):\n",
    "        if i+2<len(x_array): \n",
    "            s+=((x_array[i]-x_array[2+i])*\\\n",
    "                ((2*x_array[i]-3*x_array[1+i]+x_array[2+i])*\\\n",
    "                 (-x_array[1+i]+x_array[2+i])*\\\n",
    "                 y_array[i]-(x_array[i]-x_array[2+i])**2*\\\n",
    "                 y_array[1+i]+(x_array[i]-x_array[1+i])*\\\n",
    "                 (x_array[i]-3*x_array[1+i]+2*x_array[2+i])*y_array[2+i]))/\\\n",
    "            (6*(x_array[i]-x_array[1+i])*(x_array[1+i]-x_array[2+i]))\n",
    "    \n",
    "\n",
    "    if i < len(x_array):\n",
    "        sobra = len(x_array)-i\n",
    "        s+=trapezoide(x[-sobra:],y[-sobra:])\n",
    "    return s"
   ]
  },
  {
   "cell_type": "code",
   "execution_count": 26,
   "metadata": {
    "collapsed": false,
    "jupyter": {
     "outputs_hidden": false
    }
   },
   "outputs": [
    {
     "data": {
      "text/plain": [
       "0.9999999999999997"
      ]
     },
     "execution_count": 26,
     "metadata": {},
     "output_type": "execute_result"
    }
   ],
   "source": [
    "x = np.linspace(0,np.pi/2,3000)\n",
    "y = np.cos(x)\n",
    "simpson(x,y) "
   ]
  },
  {
   "cell_type": "code",
   "execution_count": 30,
   "metadata": {
    "collapsed": false,
    "jupyter": {
     "outputs_hidden": false
    }
   },
   "outputs": [
    {
     "data": {
      "text/plain": [
       "2.00000320286046"
      ]
     },
     "execution_count": 30,
     "metadata": {},
     "output_type": "execute_result"
    },
    {
     "data": {
      "image/png": "[encoded data removed]",
      "text/plain": [
       "<Figure size 432x288 with 1 Axes>"
      ]
     },
     "metadata": {
      "needs_background": "light"
     },
     "output_type": "display_data"
    }
   ],
   "source": [
    "#MAlla\n",
    "x = 10**(-np.flip(np.arange(0,9,0.05)))\n",
    "y = 1/np.sqrt(x)\n",
    "\n",
    "plt.plot(x,y,c = 'g')\n",
    "plt.scatter(x,y,s=3,c='r',zorder=100)\n",
    "\n",
    "simpson(x,y) "
   ]
  }
 ],
 "metadata": {
  "kernelspec": {
   "display_name": "Python 3",
   "language": "python",
   "name": "python3"
  },
  "language_info": {
   "codemirror_mode": {
    "name": "ipython",
    "version": 3
   },
   "file_extension": ".py",
   "mimetype": "text/x-python",
   "name": "python",
   "nbconvert_exporter": "python",
   "pygments_lexer": "ipython3",
   "version": "3.7.3"
  }
 },
 "nbformat": 4,
 "nbformat_minor": 4
}
